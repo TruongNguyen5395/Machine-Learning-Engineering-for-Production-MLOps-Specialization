{
 "cells": [
  {
   "cell_type": "code",
   "execution_count": 1,
   "id": "29b92ef5",
   "metadata": {},
   "outputs": [
    {
     "name": "stdout",
     "output_type": "stream",
     "text": [
      "Linux gcp-ai-notebook 4.19.0-17-cloud-amd64 #1 SMP Debian 4.19.194-2 (2021-06-21) x86_64 GNU/Linux\n",
      "PRETTY_NAME=\"Debian GNU/Linux 10 (buster)\"\n",
      "NAME=\"Debian GNU/Linux\"\n",
      "VERSION_ID=\"10\"\n",
      "VERSION=\"10 (buster)\"\n",
      "VERSION_CODENAME=buster\n",
      "ID=debian\n",
      "HOME_URL=\"https://www.debian.org/\"\n",
      "SUPPORT_URL=\"https://www.debian.org/support\"\n",
      "BUG_REPORT_URL=\"https://bugs.debian.org/\"\n"
     ]
    }
   ],
   "source": [
    "%%bash\n",
    "\n",
    "uname -a\n",
    "cat /etc/*-release"
   ]
  },
  {
   "cell_type": "code",
   "execution_count": 2,
   "id": "db86a357",
   "metadata": {},
   "outputs": [
    {
     "name": "stdout",
     "output_type": "stream",
     "text": [
      "Reading package lists...\n",
      "Building dependency tree...\n",
      "Reading state information...\n",
      "google-cloud-sdk-kpt is already the newest version (348.0.0-0).\n",
      "0 upgraded, 0 newly installed, 0 to remove and 1 not upgraded.\n"
     ]
    }
   ],
   "source": [
    "%%bash\n",
    "\n",
    "sudo apt-get install google-cloud-sdk-kpt -y"
   ]
  },
  {
   "cell_type": "code",
   "execution_count": 3,
   "id": "2d13a44d",
   "metadata": {},
   "outputs": [
    {
     "name": "stdout",
     "output_type": "stream",
     "text": [
      "[core]\n",
      "project = zlc-test-2017\n"
     ]
    },
    {
     "name": "stderr",
     "output_type": "stream",
     "text": [
      "\n",
      "Your active configuration is: [default]\n"
     ]
    }
   ],
   "source": [
    "%%bash\n",
    "\n",
    "gcloud config list project"
   ]
  },
  {
   "cell_type": "markdown",
   "id": "5a84ef50",
   "metadata": {},
   "source": [
    "# Create a cluster"
   ]
  },
  {
   "cell_type": "code",
   "execution_count": 4,
   "id": "b537f6dc",
   "metadata": {},
   "outputs": [],
   "source": [
    "CLUSTER_NAME = 'my-k8s-cluster'"
   ]
  },
  {
   "cell_type": "code",
   "execution_count": 5,
   "id": "9b4d4e87",
   "metadata": {},
   "outputs": [
    {
     "name": "stdout",
     "output_type": "stream",
     "text": [
      "NAME            LOCATION    MASTER_VERSION  MASTER_IP       MACHINE_TYPE   NODE_VERSION    NUM_NODES  STATUS\n",
      "my-k8s-cluster  us-east4-a  1.20.8-gke.700  35.245.129.233  n1-standard-4  1.20.8-gke.700  3          RUNNING\n"
     ]
    },
    {
     "name": "stderr",
     "output_type": "stream",
     "text": [
      "Updated property [compute/zone].\n",
      "WARNING: Currently VPC-native is not the default mode during cluster creation. In the future, this will become the default mode and can be disabled using `--no-enable-ip-alias` flag. Use `--[no-]enable-ip-alias` flag to suppress this warning.\n",
      "WARNING: Starting with version 1.18, clusters will have shielded GKE nodes by default.\n",
      "WARNING: Your Pod address range (`--cluster-ipv4-cidr`) can accommodate at most 1008 node(s). \n",
      "WARNING: Starting with version 1.19, newly created clusters and node-pools will have COS_CONTAINERD as the default node image when no image type is specified.\n",
      "Creating cluster my-k8s-cluster in us-east4-a...\n",
      "............................................................................................................................................................................................................................................................................................................................................................................................................................................................................................................................................................................................................................................................................................................................................................................................................................................................................................................................................................................................................................................done.\n",
      "Created [https://container.googleapis.com/v1/projects/zlc-test-2017/zones/us-east4-a/clusters/my-k8s-cluster].\n",
      "To inspect the contents of your cluster, go to: https://console.cloud.google.com/kubernetes/workload_/gcloud/us-east4-a/my-k8s-cluster?project=zlc-test-2017\n",
      "kubeconfig entry generated for my-k8s-cluster.\n"
     ]
    }
   ],
   "source": [
    "%%bash -s \"$CLUSTER_NAME\"\n",
    "\n",
    "gcloud config set compute/zone us-east4-a\n",
    "\n",
    "PROJECT_ID=$(gcloud config get-value project)\n",
    "\n",
    "gcloud container clusters create $1 \\\n",
    "  --project=$PROJECT_ID \\\n",
    "  --cluster-version=latest \\\n",
    "  --machine-type=n1-standard-4 \\\n",
    "  --scopes compute-rw,gke-default,storage-rw \\\n",
    "  --num-nodes=3"
   ]
  },
  {
   "cell_type": "code",
   "execution_count": 6,
   "id": "65b54da8",
   "metadata": {},
   "outputs": [
    {
     "name": "stderr",
     "output_type": "stream",
     "text": [
      "Fetching cluster endpoint and auth data.\n",
      "kubeconfig entry generated for my-k8s-cluster.\n"
     ]
    }
   ],
   "source": [
    "%%bash -s \"$CLUSTER_NAME\"\n",
    "\n",
    "gcloud container clusters get-credentials $1"
   ]
  },
  {
   "cell_type": "code",
   "execution_count": 7,
   "id": "df0da3e4",
   "metadata": {},
   "outputs": [
    {
     "name": "stdout",
     "output_type": "stream",
     "text": [
      "NAME            LOCATION    MASTER_VERSION  MASTER_IP       MACHINE_TYPE   NODE_VERSION    NUM_NODES  STATUS\n",
      "my-k8s-cluster  us-east4-a  1.20.8-gke.700  35.245.129.233  n1-standard-4  1.20.8-gke.700  3          RUNNING\n"
     ]
    }
   ],
   "source": [
    "%%bash\n",
    "\n",
    "gcloud container clusters list"
   ]
  },
  {
   "cell_type": "code",
   "execution_count": 8,
   "id": "9cbb218b",
   "metadata": {},
   "outputs": [
    {
     "name": "stdout",
     "output_type": "stream",
     "text": [
      "fetching package \"tf-training\" from \"https://github.com/kubeflow/manifests\" to \"tf-training\"\n",
      "total 12\n",
      "-rw-r--r-- 1 jupyter jupyter 4127 Jul 17 04:03 tf-distributed-training-kubeflow.ipynb\n",
      "drwxr-xr-x 4 jupyter jupyter 4096 Jul 17 04:07 tf-training\n"
     ]
    }
   ],
   "source": [
    "%%bash\n",
    "\n",
    "SRC_REPO=https://github.com/kubeflow/manifests\n",
    "kpt pkg get $SRC_REPO/tf-training@v1.1.0 tf-training\n",
    "\n",
    "ls -l"
   ]
  },
  {
   "cell_type": "markdown",
   "id": "e1d99a24",
   "metadata": {},
   "source": [
    "# Delete the cluster"
   ]
  },
  {
   "cell_type": "code",
   "execution_count": 9,
   "id": "414915a6",
   "metadata": {},
   "outputs": [
    {
     "name": "stderr",
     "output_type": "stream",
     "text": [
      "Deleting cluster my-k8s-cluster...\n",
      ".....................................................................................................................................................................................................................................................................................................................................................................................................................................................................................................................................................................................................................................................................................................done.\n",
      "Deleted [https://container.googleapis.com/v1/projects/zlc-test-2017/zones/us-east4-a/clusters/my-k8s-cluster].\n"
     ]
    }
   ],
   "source": [
    "%%bash -s \"$CLUSTER_NAME\"\n",
    "\n",
    "gcloud container clusters delete $1 --quiet"
   ]
  }
 ],
 "metadata": {
  "environment": {
   "name": "tf2-gpu.2-3.m75",
   "type": "gcloud",
   "uri": "gcr.io/deeplearning-platform-release/tf2-gpu.2-3:m75"
  },
  "kernelspec": {
   "display_name": "Python 3",
   "language": "python",
   "name": "python3"
  },
  "language_info": {
   "codemirror_mode": {
    "name": "ipython",
    "version": 3
   },
   "file_extension": ".py",
   "mimetype": "text/x-python",
   "name": "python",
   "nbconvert_exporter": "python",
   "pygments_lexer": "ipython3",
   "version": "3.7.10"
  }
 },
 "nbformat": 4,
 "nbformat_minor": 5
}
